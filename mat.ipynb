{
 "cells": [
  {
   "cell_type": "code",
   "execution_count": 15,
   "id": "7ef65284",
   "metadata": {},
   "outputs": [],
   "source": [
    "import random\n",
    "\n",
    "def properties():\n",
    "    #Randomized material properties for LS-DYNA/PyDYNA\n",
    "    matProps = {\n",
    "        'density': random.uniform(1000, 8000),  # kg/m³\n",
    "        'youngs_modulus': random.uniform(1e9, 2e11),  # Pa\n",
    "        'poissons_ratio': random.uniform(0.2, 0.4),\n",
    "        'yield_stress': random.uniform(1e6, 1e9),  # Pa\n",
    "        'tensile_strength': random.uniform(1e6, 1e9),  # Pa\n",
    "        'compressive_strength': random.uniform(1e6, 1e9),  # Pa\n",
    "        'shear_modulus': random.uniform(1e8, 8e10),  # Pa\n",
    "        'bulk_modulus': random.uniform(1e9, 1.5e11),  # Pa\n",
    "        'thermal_expansion': random.uniform(1e-6, 2e-5),  # 1/°C\n",
    "        'specific_heat': random.uniform(400, 1000),  # J/kg·°C\n",
    "        'thermal_conductivity': random.uniform(10, 400),  # W/m·°C\n",
    "        'hardening_modulus': random.uniform(1e7, 1e9),  # Pa\n",
    "        'failure_strain': random.uniform(0.1, 0.5),\n",
    "        'fracture_toughness': random.uniform(1e6, 1e8),  # Pa·√m\n",
    "        'damping_ratio': random.uniform(0.01, 0.1)\n",
    "    }\n",
    "    \n",
    "    return matProps\n",
    "\n",
    "\n"
   ]
  },
  {
   "cell_type": "code",
   "execution_count": 16,
   "id": "9df98b06",
   "metadata": {},
   "outputs": [
    {
     "name": "stdout",
     "output_type": "stream",
     "text": [
      "Density             : 7.089e+03\n",
      "Youngs Modulus      : 7.198e+10\n",
      "Poissons Ratio      : 2.842e-01\n",
      "Yield Stress        : 6.821e+08\n",
      "Tensile Strength    : 8.644e+08\n",
      "Compressive Strength: 8.402e+07\n",
      "Shear Modulus       : 1.694e+10\n",
      "Bulk Modulus        : 4.279e+10\n",
      "Thermal Expansion   : 8.669e-06\n",
      "Specific Heat       : 6.720e+02\n",
      "Thermal Conductivity: 1.752e+02\n",
      "Hardening Modulus   : 4.005e+08\n",
      "Failure Strain      : 2.406e-01\n",
      "Fracture Toughness  : 5.527e+07\n",
      "Damping Ratio       : 7.282e-02\n"
     ]
    }
   ],
   "source": [
    "material = properties()\n",
    "for property_name, value in material.items():\n",
    "    print(f\"{property_name.replace('_', ' ').title():<20}: {value:.3e}\")\n",
    "\n"
   ]
  }
 ],
 "metadata": {
  "kernelspec": {
   "display_name": "numba",
   "language": "python",
   "name": "python3"
  },
  "language_info": {
   "codemirror_mode": {
    "name": "ipython",
    "version": 3
   },
   "file_extension": ".py",
   "mimetype": "text/x-python",
   "name": "python",
   "nbconvert_exporter": "python",
   "pygments_lexer": "ipython3",
   "version": "3.13.7"
  }
 },
 "nbformat": 4,
 "nbformat_minor": 5
}
